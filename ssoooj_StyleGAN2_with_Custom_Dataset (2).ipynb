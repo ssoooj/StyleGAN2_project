{
  "nbformat": 4,
  "nbformat_minor": 0,
  "metadata": {
    "accelerator": "GPU",
    "colab": {
      "name": "ssoooj-StyleGAN2_with_Custom_Dataset.ipynb",
      "provenance": [],
      "collapsed_sections": [],
      "machine_shape": "hm"
    },
    "kernelspec": {
      "display_name": "Python 3",
      "name": "python3"
    },
    "language_info": {
      "name": "python"
    }
  },
  "cells": [
    {
      "cell_type": "markdown",
      "metadata": {
        "id": "r5sRm8g1nWVS"
      },
      "source": [
        "# **StyleGAN2 with Custom Dataset**"
      ]
    },
    {
      "cell_type": "markdown",
      "metadata": {
        "id": "7YCqInRSnh-b"
      },
      "source": [
        "### **1. Clone the StyleGAN2 official git repository.**"
      ]
    },
    {
      "cell_type": "code",
      "metadata": {
        "colab": {
          "base_uri": "https://localhost:8080/"
        },
        "id": "NXxdjfE-T0dH",
        "outputId": "a55f0f45-a3e1-41ea-b5f5-da2e5c1e11a3"
      },
      "source": [
        "!head /proc/cpuinfo\n",
        "print('\\n')\n",
        "!head -n 3 /proc/meminfo"
      ],
      "execution_count": 1,
      "outputs": [
        {
          "output_type": "stream",
          "name": "stdout",
          "text": [
            "processor\t: 0\n",
            "vendor_id\t: GenuineIntel\n",
            "cpu family\t: 6\n",
            "model\t\t: 85\n",
            "model name\t: Intel(R) Xeon(R) CPU @ 2.00GHz\n",
            "stepping\t: 3\n",
            "microcode\t: 0x1\n",
            "cpu MHz\t\t: 2000.200\n",
            "cache size\t: 39424 KB\n",
            "physical id\t: 0\n",
            "\n",
            "\n",
            "MemTotal:       26696424 kB\n",
            "MemFree:        23715752 kB\n",
            "MemAvailable:   25746124 kB\n"
          ]
        }
      ]
    },
    {
      "cell_type": "code",
      "metadata": {
        "colab": {
          "base_uri": "https://localhost:8080/"
        },
        "id": "5IKwyV1jT1zm",
        "outputId": "62ad716c-f5b0-4336-8a31-f72e5967245a"
      },
      "source": [
        "!nvidia-smi"
      ],
      "execution_count": 2,
      "outputs": [
        {
          "output_type": "stream",
          "name": "stdout",
          "text": [
            "Thu Sep  9 04:29:25 2021       \n",
            "+-----------------------------------------------------------------------------+\n",
            "| NVIDIA-SMI 470.63.01    Driver Version: 460.32.03    CUDA Version: 11.2     |\n",
            "|-------------------------------+----------------------+----------------------+\n",
            "| GPU  Name        Persistence-M| Bus-Id        Disp.A | Volatile Uncorr. ECC |\n",
            "| Fan  Temp  Perf  Pwr:Usage/Cap|         Memory-Usage | GPU-Util  Compute M. |\n",
            "|                               |                      |               MIG M. |\n",
            "|===============================+======================+======================|\n",
            "|   0  Tesla T4            Off  | 00000000:00:04.0 Off |                    0 |\n",
            "| N/A   36C    P8     9W /  70W |      0MiB / 15109MiB |      0%      Default |\n",
            "|                               |                      |                  N/A |\n",
            "+-------------------------------+----------------------+----------------------+\n",
            "                                                                               \n",
            "+-----------------------------------------------------------------------------+\n",
            "| Processes:                                                                  |\n",
            "|  GPU   GI   CI        PID   Type   Process name                  GPU Memory |\n",
            "|        ID   ID                                                   Usage      |\n",
            "|=============================================================================|\n",
            "|  No running processes found                                                 |\n",
            "+-----------------------------------------------------------------------------+\n"
          ]
        }
      ]
    },
    {
      "cell_type": "code",
      "metadata": {
        "colab": {
          "base_uri": "https://localhost:8080/"
        },
        "id": "C5UVYacomnPe",
        "outputId": "82d53204-a925-4551-cd54-9ce52d1f8366"
      },
      "source": [
        "!pip install git+https://github.com/Kaggle/kaggle-api.git --upgrade"
      ],
      "execution_count": null,
      "outputs": [
        {
          "name": "stdout",
          "output_type": "stream",
          "text": [
            "Collecting git+https://github.com/Kaggle/kaggle-api.git\n",
            "  Cloning https://github.com/Kaggle/kaggle-api.git to /tmp/pip-req-build-9vycpj12\n",
            "  Running command git clone -q https://github.com/Kaggle/kaggle-api.git /tmp/pip-req-build-9vycpj12\n",
            "Requirement already satisfied: six>=1.10 in /usr/local/lib/python3.7/dist-packages (from kaggle==1.5.12) (1.15.0)\n",
            "Requirement already satisfied: certifi in /usr/local/lib/python3.7/dist-packages (from kaggle==1.5.12) (2021.5.30)\n",
            "Requirement already satisfied: python-dateutil in /usr/local/lib/python3.7/dist-packages (from kaggle==1.5.12) (2.8.2)\n",
            "Requirement already satisfied: requests in /usr/local/lib/python3.7/dist-packages (from kaggle==1.5.12) (2.23.0)\n",
            "Requirement already satisfied: tqdm in /usr/local/lib/python3.7/dist-packages (from kaggle==1.5.12) (4.62.0)\n",
            "Requirement already satisfied: python-slugify in /usr/local/lib/python3.7/dist-packages (from kaggle==1.5.12) (5.0.2)\n",
            "Requirement already satisfied: urllib3 in /usr/local/lib/python3.7/dist-packages (from kaggle==1.5.12) (1.24.3)\n",
            "Requirement already satisfied: text-unidecode>=1.3 in /usr/local/lib/python3.7/dist-packages (from python-slugify->kaggle==1.5.12) (1.3)\n",
            "Requirement already satisfied: idna<3,>=2.5 in /usr/local/lib/python3.7/dist-packages (from requests->kaggle==1.5.12) (2.10)\n",
            "Requirement already satisfied: chardet<4,>=3.0.2 in /usr/local/lib/python3.7/dist-packages (from requests->kaggle==1.5.12) (3.0.4)\n"
          ]
        }
      ]
    },
    {
      "cell_type": "code",
      "metadata": {
        "id": "YLTaQlBdmzZ6"
      },
      "source": [
        "import os\n",
        "credentials = {\"username\":\"cookysh\",\"key\":\"8c311e44416df44ba148caaeef725525\"}\n",
        "os.environ['KAGGLE_USERNAME'] = credentials['username']\n",
        "os.environ['KAGGLE_KEY'] = credentials['key']"
      ],
      "execution_count": null,
      "outputs": []
    },
    {
      "cell_type": "code",
      "metadata": {
        "colab": {
          "base_uri": "https://localhost:8080/"
        },
        "id": "Bpvkpll3plBo",
        "outputId": "622473b7-c677-46b7-8f73-0a7a55282728"
      },
      "source": [
        "#import google drive\n",
        "from google.colab import drive\n",
        "drive.mount('/content/drive')"
      ],
      "execution_count": 3,
      "outputs": [
        {
          "output_type": "stream",
          "name": "stdout",
          "text": [
            "Mounted at /content/drive\n"
          ]
        }
      ]
    },
    {
      "cell_type": "code",
      "metadata": {
        "colab": {
          "base_uri": "https://localhost:8080/"
        },
        "id": "YDe1E5UCaFjF",
        "outputId": "a942022e-a38c-4f72-fd37-563fb789790d"
      },
      "source": [
        "#SKIP this if you already have a stylegan2 folder in your google drive\n",
        "%cd /content/drive/My\\ Drive/\n",
        "!mkdir stylegan2-colab2\n",
        "%cd stylegan2-colab2\n",
        "!git clone https://github.com/dvschultz/stylegan2\n",
        "%cd stylegan2\n",
        "!mkdir pkl\n",
        "%cd pkl\n",
        "!gdown --id 1JLqXE5bGZnlu2BkbLPD5_ZxoO3Nz-AvF #inception: https://drive.google.com/open?id=1JLqXE5bGZnlu2BkbLPD5_ZxoO3Nz-AvF\n",
        "%cd ../\n",
        "!mkdir results\n",
        "!mkdir results/00001-pretrained\n",
        "%cd results/00001-pretrained\n",
        "!gdown --id 1UlDmJVLLnBD9SnLSMXeiZRO6g-OMQCA_\n",
        "!mv stylegan2-ffhq-config-f.pkl network-snapshot-10000.pkl\n",
        "%cd ../../\n",
        "%mkdir datasets"
      ],
      "execution_count": null,
      "outputs": [
        {
          "name": "stdout",
          "output_type": "stream",
          "text": [
            "/content/drive/My Drive\n",
            "/content/drive/My Drive/stylegan2-colab2\n",
            "Cloning into 'stylegan2'...\n",
            "remote: Enumerating objects: 552, done.\u001b[K\n",
            "remote: Total 552 (delta 0), reused 0 (delta 0), pack-reused 552\u001b[K\n",
            "Receiving objects: 100% (552/552), 22.47 MiB | 18.80 MiB/s, done.\n",
            "Resolving deltas: 100% (285/285), done.\n",
            "/content/drive/My Drive/stylegan2-colab2/stylegan2\n",
            "/content/drive/My Drive/stylegan2-colab2/stylegan2/pkl\n",
            "Downloading...\n",
            "From: https://drive.google.com/uc?id=1JLqXE5bGZnlu2BkbLPD5_ZxoO3Nz-AvF\n",
            "To: /content/drive/My Drive/stylegan2-colab2/stylegan2/pkl/inception_v3_features.pkl\n",
            "87.3MB [00:00, 155MB/s]\n",
            "/content/drive/My Drive/stylegan2-colab2/stylegan2\n",
            "/content/drive/My Drive/stylegan2-colab2/stylegan2/results/00001-pretrained\n",
            "Downloading...\n",
            "From: https://drive.google.com/uc?id=1UlDmJVLLnBD9SnLSMXeiZRO6g-OMQCA_\n",
            "To: /content/drive/My Drive/stylegan2-colab2/stylegan2/results/00001-pretrained/stylegan2-ffhq-config-f.pkl\n",
            "382MB [00:02, 143MB/s]\n",
            "/content/drive/MyDrive/stylegan2-colab2/stylegan2\n"
          ]
        }
      ]
    },
    {
      "cell_type": "code",
      "metadata": {
        "colab": {
          "base_uri": "https://localhost:8080/"
        },
        "id": "KubnFnnyaM0H",
        "outputId": "f5347eeb-a6ff-4855-a544-73c57cf4315e"
      },
      "source": [
        "#USE this if you already have a stylegan2 folder in google drive\n",
        "%cd /content/drive/My\\ Drive/stylegan2-colab2/stylegan2\n",
        "!git pull"
      ],
      "execution_count": null,
      "outputs": [
        {
          "name": "stdout",
          "output_type": "stream",
          "text": [
            "/content/drive/My Drive/stylegan2-colab2/stylegan2\n",
            "Already up to date.\n"
          ]
        }
      ]
    },
    {
      "cell_type": "code",
      "metadata": {
        "colab": {
          "base_uri": "https://localhost:8080/"
        },
        "id": "ZZmM1OtlaW7l",
        "outputId": "b1aab2dc-4dcf-43d7-a8b5-4bccac5a3576"
      },
      "source": [
        "%tensorflow_version 1.x\n",
        "%cd /content/drive/My\\ Drive/stylegan2-colab2/stylegan2"
      ],
      "execution_count": 4,
      "outputs": [
        {
          "output_type": "stream",
          "name": "stdout",
          "text": [
            "TensorFlow 1.x selected.\n",
            "/content/drive/My Drive/stylegan2-colab2/stylegan2\n"
          ]
        }
      ]
    },
    {
      "cell_type": "markdown",
      "metadata": {
        "id": "95yFSobbrhwo"
      },
      "source": [
        "### **2.Convert your dataset into .tfrecords files.**"
      ]
    },
    {
      "cell_type": "markdown",
      "metadata": {
        "id": "hEiZrGyur5Gv"
      },
      "source": [
        "StyleGAN2 requires you to convert your image data into .tfrecords format. \n",
        "You can name your own folder after the directory './datasets/your_folder' to save results and set your path where the image data is located."
      ]
    },
    {
      "cell_type": "code",
      "metadata": {
        "colab": {
          "base_uri": "https://localhost:8080/"
        },
        "id": "irwBnzXQOQVL",
        "outputId": "9be10d63-5a9d-47f7-f371-852c68de39a0"
      },
      "source": [
        "!ls /content/drive/MyDrive/3d_reconstruction_sohyeon/ai_art/resized\n",
        "print(len('/content/drive/MyDrive/3d_reconstruction_sohyeon/ai_art/resized'))"
      ],
      "execution_count": null,
      "outputs": [
        {
          "name": "stdout",
          "output_type": "stream",
          "text": [
            "Andy_Warhol_101_512.jpg  Andy_Warhol_29_512.jpg  Andy_Warhol_6_512.jpg\n",
            "Andy_Warhol_113_512.jpg  Andy_Warhol_35_512.jpg  Andy_Warhol_66_512.jpg\n",
            "Andy_Warhol_114_512.jpg  Andy_Warhol_36_512.jpg  Andy_Warhol_68_512.jpg\n",
            "Andy_Warhol_119_512.jpg  Andy_Warhol_37_512.jpg  Andy_Warhol_69_512.jpg\n",
            "Andy_Warhol_127_512.jpg  Andy_Warhol_38_512.jpg  Andy_Warhol_72_512.jpg\n",
            "Andy_Warhol_129_512.jpg  Andy_Warhol_39_512.jpg  Andy_Warhol_7_512.jpg\n",
            "Andy_Warhol_130_512.jpg  Andy_Warhol_40_512.jpg  Andy_Warhol_81_512.jpg\n",
            "Andy_Warhol_133_512.jpg  Andy_Warhol_41_512.jpg  Andy_Warhol_82_512.jpg\n",
            "Andy_Warhol_139_512.jpg  Andy_Warhol_44_512.jpg  Andy_Warhol_83_512.jpg\n",
            "Andy_Warhol_146_512.jpg  Andy_Warhol_4_512.jpg\t Andy_Warhol_8_512.jpg\n",
            "Andy_Warhol_148_512.jpg  Andy_Warhol_45_512.jpg  Andy_Warhol_86_512.jpg\n",
            "Andy_Warhol_151_512.jpg  Andy_Warhol_46_512.jpg  Andy_Warhol_88_512.jpg\n",
            "Andy_Warhol_15_512.jpg\t Andy_Warhol_51_512.jpg  Andy_Warhol_90_512.jpg\n",
            "Andy_Warhol_158_512.jpg  Andy_Warhol_52_512.jpg  Andy_Warhol_91_512.jpg\n",
            "Andy_Warhol_19_512.jpg\t Andy_Warhol_54_512.jpg  Andy_Warhol_99_512.jpg\n",
            "Andy_Warhol_22_512.jpg\t Andy_Warhol_55_512.jpg\n",
            "Andy_Warhol_26_512.jpg\t Andy_Warhol_64_512.jpg\n",
            "63\n"
          ]
        }
      ]
    },
    {
      "cell_type": "code",
      "metadata": {
        "colab": {
          "base_uri": "https://localhost:8080/",
          "height": 35
        },
        "id": "KJkj_wpSa1vK",
        "outputId": "53f0cde7-4a29-44b2-b1f9-f8e8fe6978d1"
      },
      "source": [
        "%pwd"
      ],
      "execution_count": null,
      "outputs": [
        {
          "data": {
            "application/vnd.google.colaboratory.intrinsic+json": {
              "type": "string"
            },
            "text/plain": [
              "'/content/drive/My Drive/stylegan2-colab2/stylegan2'"
            ]
          },
          "execution_count": 22,
          "metadata": {},
          "output_type": "execute_result"
        }
      ]
    },
    {
      "cell_type": "code",
      "metadata": {
        "colab": {
          "base_uri": "https://localhost:8080/"
        },
        "id": "cGf0hzbOsiIX",
        "outputId": "95f56d24-3754-4b8a-ec66-261018369e83"
      },
      "source": [
        "#originally 50 images\n",
        "!python dataset_tool.py create_from_images ./datasets/ai_art /content/drive/MyDrive/3d_reconstruction_sohyeon/ai_art/resized/"
      ],
      "execution_count": null,
      "outputs": [
        {
          "name": "stdout",
          "output_type": "stream",
          "text": [
            "Loading images from \"/content/drive/MyDrive/3d_reconstruction_sohyeon/ai_art/resized/\"\n",
            "  0% 0/49 [00:00<?, ?it/s]dataset_tool.py:87: DeprecationWarning: tostring() is deprecated. Use tobytes() instead.\n",
            "  'data': tf.train.Feature(bytes_list=tf.train.BytesList(value=[quant.tostring()]))}))\n",
            "100% 49/49 [00:18<00:00,  2.70it/s]\n"
          ]
        }
      ]
    },
    {
      "cell_type": "code",
      "metadata": {
        "colab": {
          "base_uri": "https://localhost:8080/"
        },
        "id": "d4mr6EkJxIJg",
        "outputId": "db160467-b10c-47c9-b123-e93352b0fb14"
      },
      "source": [
        "#newly picked 5 images\n",
        "!python dataset_tool.py create_from_images ./datasets/ai_art /content/drive/MyDrive/3d_reconstruction_sohyeon/tobetrained"
      ],
      "execution_count": null,
      "outputs": [
        {
          "name": "stdout",
          "output_type": "stream",
          "text": [
            "Loading images from \"/content/drive/MyDrive/3d_reconstruction_sohyeon/tobetrained\"\n",
            "  0% 0/5 [00:00<?, ?it/s]dataset_tool.py:87: DeprecationWarning: tostring() is deprecated. Use tobytes() instead.\n",
            "  'data': tf.train.Feature(bytes_list=tf.train.BytesList(value=[quant.tostring()]))}))\n",
            "100% 5/5 [00:01<00:00,  3.23it/s]\n"
          ]
        }
      ]
    },
    {
      "cell_type": "markdown",
      "metadata": {
        "id": "wAKENPZMKtPl"
      },
      "source": [
        "### **3.Training**"
      ]
    },
    {
      "cell_type": "markdown",
      "metadata": {
        "id": "QSi0mcMFLSOB"
      },
      "source": [
        "For the detailed setting of each parameter, please check on original codes from StyleGAN2 repository."
      ]
    },
    {
      "cell_type": "code",
      "metadata": {
        "colab": {
          "base_uri": "https://localhost:8080/"
        },
        "id": "CA9UGOxtYVar",
        "outputId": "9e5cac1d-236b-486f-d1d9-d2570840cb6d"
      },
      "source": [
        "!nvcc test_nvcc.cu -o test_nvcc -run\n",
        "import tensorflow as tf\n",
        "\n",
        "print('Tensorflow version: {}'.format(tf.__version__) )\n",
        "!nvidia-smi -L\n",
        "print('GPU Identified at: {}'.format(tf.test.gpu_device_name()))"
      ],
      "execution_count": 5,
      "outputs": [
        {
          "output_type": "stream",
          "name": "stdout",
          "text": [
            "CPU says hello.\n",
            "GPU says hello.\n",
            "Tensorflow version: 1.15.2\n",
            "GPU 0: Tesla T4 (UUID: GPU-609d7a40-5c7e-8924-8060-66821c2b144a)\n",
            "GPU Identified at: /device:GPU:0\n"
          ]
        }
      ]
    },
    {
      "cell_type": "code",
      "metadata": {
        "colab": {
          "base_uri": "https://localhost:8080/"
        },
        "id": "Wm7zAUtNd5Eg",
        "outputId": "1d3c4f9c-7ffc-40d5-d8cf-8de8d08d5b70"
      },
      "source": [
        "!python run_training.py --num-gpus=1 --data-dir=./datasets --config=config-f --dataset=ai_art --total-kimg=500 --mirror-augment=true --metrics=None"
      ],
      "execution_count": null,
      "outputs": [
        {
          "output_type": "stream",
          "name": "stdout",
          "text": [
            "Local submit - run_dir: results/00010-stylegan2-ai_art-1gpu-config-f\n",
            "dnnlib: Running training.training_loop.training_loop() on localhost...\n",
            "Streaming data using training.dataset.TFRecordDataset...\n",
            "tcmalloc: large alloc 4294967296 bytes == 0x560782594000 @  0x7fd420582001 0x7fd41d06654f 0x7fd41d0b6b58 0x7fd41d0bab17 0x7fd41d159203 0x56077b9e30a4 0x56077b9e2da0 0x56077ba57868 0x56077ba52235 0x56077b9e4fec 0x56077ba25bc9 0x56077ba22ac4 0x56077b9e51f1 0x56077ba54318 0x56077ba51c35 0x56077b923e2c 0x56077ba54318 0x56077ba51c35 0x56077b923e2c 0x56077ba54318 0x56077b9e465a 0x56077ba52b0e 0x56077b9e465a 0x56077ba52d67 0x56077ba51c35 0x56077b923e2c 0x56077ba54318 0x56077ba51c35 0x56077b923e2c 0x56077ba54318 0x56077b9e465a\n",
            "tcmalloc: large alloc 4294967296 bytes == 0x560882594000 @  0x7fd4205801e7 0x7fd41d06646e 0x7fd41d0b6c7b 0x7fd41d0b735f 0x7fd41d159103 0x56077b9e30a4 0x56077b9e2da0 0x56077ba57868 0x56077ba51c35 0x56077b9e473a 0x56077ba5393b 0x56077ba51c35 0x56077b9e473a 0x56077ba5393b 0x56077ba51c35 0x56077b9e473a 0x56077ba5393b 0x56077b9e465a 0x56077ba52b0e 0x56077ba51c35 0x56077b9e473a 0x56077ba56f40 0x56077ba51c35 0x56077b9e473a 0x56077ba5393b 0x56077ba52235 0x56077b9e4fec 0x56077ba25bc9 0x56077ba22ac4 0x56077b9e51f1 0x56077ba54318\n",
            "tcmalloc: large alloc 4294967296 bytes == 0x5609834e4000 @  0x7fd4205801e7 0x7fd41d06646e 0x7fd41d0b6c7b 0x7fd41d0b735f 0x7fd3c7d51235 0x7fd3c76d4792 0x7fd3c76d4d42 0x7fd3c768daee 0x56077b9e2f97 0x56077b9e2da0 0x56077ba572f9 0x56077b9e465a 0x56077ba52d67 0x56077ba51dcc 0x56077b923eb1 0x56077ba54318 0x56077ba51c35 0x56077b9e473a 0x56077ba52d67 0x56077ba52235 0x56077b9e473a 0x56077ba52d67 0x56077b9e465a 0x56077ba52d67 0x56077ba51c35 0x56077b9e4dd1 0x56077b9e51f1 0x56077ba54318 0x56077ba51c35 0x56077b9e473a 0x56077ba52b0e\n",
            "Dataset shape = [3, 512, 512]\n",
            "Dynamic range = [0, 255]\n",
            "Label size    = 0\n",
            "Loading networks from \"/content/drive/MyDrive/stylegan2-colab2/stylegan2/results/00009-stylegan2-ai_art-1gpu-config-f/network-snapshot-000060.pkl\"...\n",
            "Setting up TensorFlow plugin \"fused_bias_act.cu\": Preprocessing... Loading... Done.\n",
            "Setting up TensorFlow plugin \"upfirdn_2d.cu\": Preprocessing... Loading... Done.\n",
            "\n",
            "G                             Params    OutputShape         WeightShape     \n",
            "---                           ---       ---                 ---             \n",
            "latents_in                    -         (?, 512)            -               \n",
            "labels_in                     -         (?, 0)              -               \n",
            "lod                           -         ()                  -               \n",
            "dlatent_avg                   -         (512,)              -               \n",
            "G_mapping/latents_in          -         (?, 512)            -               \n",
            "G_mapping/labels_in           -         (?, 0)              -               \n",
            "G_mapping/Normalize           -         (?, 512)            -               \n",
            "G_mapping/Dense0              262656    (?, 512)            (512, 512)      \n",
            "G_mapping/Dense1              262656    (?, 512)            (512, 512)      \n",
            "G_mapping/Dense2              262656    (?, 512)            (512, 512)      \n",
            "G_mapping/Dense3              262656    (?, 512)            (512, 512)      \n",
            "G_mapping/Dense4              262656    (?, 512)            (512, 512)      \n",
            "G_mapping/Dense5              262656    (?, 512)            (512, 512)      \n",
            "G_mapping/Dense6              262656    (?, 512)            (512, 512)      \n",
            "G_mapping/Dense7              262656    (?, 512)            (512, 512)      \n",
            "G_mapping/Broadcast           -         (?, 16, 512)        -               \n",
            "G_mapping/dlatents_out        -         (?, 16, 512)        -               \n",
            "Truncation/Lerp               -         (?, 16, 512)        -               \n",
            "G_synthesis/dlatents_in       -         (?, 16, 512)        -               \n",
            "G_synthesis/4x4/Const         8192      (?, 512, 4, 4)      (1, 512, 4, 4)  \n",
            "G_synthesis/4x4/Conv          2622465   (?, 512, 4, 4)      (3, 3, 512, 512)\n",
            "G_synthesis/4x4/ToRGB         264195    (?, 3, 4, 4)        (1, 1, 512, 3)  \n",
            "G_synthesis/8x8/Conv0_up      2622465   (?, 512, 8, 8)      (3, 3, 512, 512)\n",
            "G_synthesis/8x8/Conv1         2622465   (?, 512, 8, 8)      (3, 3, 512, 512)\n",
            "G_synthesis/8x8/Upsample      -         (?, 3, 8, 8)        -               \n",
            "G_synthesis/8x8/ToRGB         264195    (?, 3, 8, 8)        (1, 1, 512, 3)  \n",
            "G_synthesis/16x16/Conv0_up    2622465   (?, 512, 16, 16)    (3, 3, 512, 512)\n",
            "G_synthesis/16x16/Conv1       2622465   (?, 512, 16, 16)    (3, 3, 512, 512)\n",
            "G_synthesis/16x16/Upsample    -         (?, 3, 16, 16)      -               \n",
            "G_synthesis/16x16/ToRGB       264195    (?, 3, 16, 16)      (1, 1, 512, 3)  \n",
            "G_synthesis/32x32/Conv0_up    2622465   (?, 512, 32, 32)    (3, 3, 512, 512)\n",
            "G_synthesis/32x32/Conv1       2622465   (?, 512, 32, 32)    (3, 3, 512, 512)\n",
            "G_synthesis/32x32/Upsample    -         (?, 3, 32, 32)      -               \n",
            "G_synthesis/32x32/ToRGB       264195    (?, 3, 32, 32)      (1, 1, 512, 3)  \n",
            "G_synthesis/64x64/Conv0_up    2622465   (?, 512, 64, 64)    (3, 3, 512, 512)\n",
            "G_synthesis/64x64/Conv1       2622465   (?, 512, 64, 64)    (3, 3, 512, 512)\n",
            "G_synthesis/64x64/Upsample    -         (?, 3, 64, 64)      -               \n",
            "G_synthesis/64x64/ToRGB       264195    (?, 3, 64, 64)      (1, 1, 512, 3)  \n",
            "G_synthesis/128x128/Conv0_up  1442561   (?, 256, 128, 128)  (3, 3, 512, 256)\n",
            "G_synthesis/128x128/Conv1     721409    (?, 256, 128, 128)  (3, 3, 256, 256)\n",
            "G_synthesis/128x128/Upsample  -         (?, 3, 128, 128)    -               \n",
            "G_synthesis/128x128/ToRGB     132099    (?, 3, 128, 128)    (1, 1, 256, 3)  \n",
            "G_synthesis/256x256/Conv0_up  426369    (?, 128, 256, 256)  (3, 3, 256, 128)\n",
            "G_synthesis/256x256/Conv1     213249    (?, 128, 256, 256)  (3, 3, 128, 128)\n",
            "G_synthesis/256x256/Upsample  -         (?, 3, 256, 256)    -               \n",
            "G_synthesis/256x256/ToRGB     66051     (?, 3, 256, 256)    (1, 1, 128, 3)  \n",
            "G_synthesis/512x512/Conv0_up  139457    (?, 64, 512, 512)   (3, 3, 128, 64) \n",
            "G_synthesis/512x512/Conv1     69761     (?, 64, 512, 512)   (3, 3, 64, 64)  \n",
            "G_synthesis/512x512/Upsample  -         (?, 3, 512, 512)    -               \n",
            "G_synthesis/512x512/ToRGB     33027     (?, 3, 512, 512)    (1, 1, 64, 3)   \n",
            "G_synthesis/images_out        -         (?, 3, 512, 512)    -               \n",
            "G_synthesis/noise0            -         (1, 1, 4, 4)        -               \n",
            "G_synthesis/noise1            -         (1, 1, 8, 8)        -               \n",
            "G_synthesis/noise2            -         (1, 1, 8, 8)        -               \n",
            "G_synthesis/noise3            -         (1, 1, 16, 16)      -               \n",
            "G_synthesis/noise4            -         (1, 1, 16, 16)      -               \n",
            "G_synthesis/noise5            -         (1, 1, 32, 32)      -               \n",
            "G_synthesis/noise6            -         (1, 1, 32, 32)      -               \n",
            "G_synthesis/noise7            -         (1, 1, 64, 64)      -               \n",
            "G_synthesis/noise8            -         (1, 1, 64, 64)      -               \n",
            "G_synthesis/noise9            -         (1, 1, 128, 128)    -               \n",
            "G_synthesis/noise10           -         (1, 1, 128, 128)    -               \n",
            "G_synthesis/noise11           -         (1, 1, 256, 256)    -               \n",
            "G_synthesis/noise12           -         (1, 1, 256, 256)    -               \n",
            "G_synthesis/noise13           -         (1, 1, 512, 512)    -               \n",
            "G_synthesis/noise14           -         (1, 1, 512, 512)    -               \n",
            "images_out                    -         (?, 3, 512, 512)    -               \n",
            "---                           ---       ---                 ---             \n",
            "Total                         30276583                                      \n",
            "\n",
            "\n",
            "D                    Params    OutputShape         WeightShape     \n",
            "---                  ---       ---                 ---             \n",
            "images_in            -         (?, 3, 512, 512)    -               \n",
            "labels_in            -         (?, 0)              -               \n",
            "512x512/FromRGB      256       (?, 64, 512, 512)   (1, 1, 3, 64)   \n",
            "512x512/Conv0        36928     (?, 64, 512, 512)   (3, 3, 64, 64)  \n",
            "512x512/Conv1_down   73856     (?, 128, 256, 256)  (3, 3, 64, 128) \n",
            "512x512/Skip         8192      (?, 128, 256, 256)  (1, 1, 64, 128) \n",
            "256x256/Conv0        147584    (?, 128, 256, 256)  (3, 3, 128, 128)\n",
            "256x256/Conv1_down   295168    (?, 256, 128, 128)  (3, 3, 128, 256)\n",
            "256x256/Skip         32768     (?, 256, 128, 128)  (1, 1, 128, 256)\n",
            "128x128/Conv0        590080    (?, 256, 128, 128)  (3, 3, 256, 256)\n",
            "128x128/Conv1_down   1180160   (?, 512, 64, 64)    (3, 3, 256, 512)\n",
            "128x128/Skip         131072    (?, 512, 64, 64)    (1, 1, 256, 512)\n",
            "64x64/Conv0          2359808   (?, 512, 64, 64)    (3, 3, 512, 512)\n",
            "64x64/Conv1_down     2359808   (?, 512, 32, 32)    (3, 3, 512, 512)\n",
            "64x64/Skip           262144    (?, 512, 32, 32)    (1, 1, 512, 512)\n",
            "32x32/Conv0          2359808   (?, 512, 32, 32)    (3, 3, 512, 512)\n",
            "32x32/Conv1_down     2359808   (?, 512, 16, 16)    (3, 3, 512, 512)\n",
            "32x32/Skip           262144    (?, 512, 16, 16)    (1, 1, 512, 512)\n",
            "16x16/Conv0          2359808   (?, 512, 16, 16)    (3, 3, 512, 512)\n",
            "16x16/Conv1_down     2359808   (?, 512, 8, 8)      (3, 3, 512, 512)\n",
            "16x16/Skip           262144    (?, 512, 8, 8)      (1, 1, 512, 512)\n",
            "8x8/Conv0            2359808   (?, 512, 8, 8)      (3, 3, 512, 512)\n",
            "8x8/Conv1_down       2359808   (?, 512, 4, 4)      (3, 3, 512, 512)\n",
            "8x8/Skip             262144    (?, 512, 4, 4)      (1, 1, 512, 512)\n",
            "4x4/MinibatchStddev  -         (?, 513, 4, 4)      -               \n",
            "4x4/Conv             2364416   (?, 512, 4, 4)      (3, 3, 513, 512)\n",
            "4x4/Dense0           4194816   (?, 512)            (8192, 512)     \n",
            "Output               513       (?, 1)              (512, 1)        \n",
            "scores_out           -         (?, 1)              -               \n",
            "---                  ---       ---                 ---             \n",
            "Total                28982849                                      \n",
            "\n",
            "Building TensorFlow graph...\n",
            "Initializing logs...\n",
            "Training for 500 kimg...\n",
            "\n",
            "tick 0     kimg 0.0      lod 0.00  minibatch 8    time 53s          sec/tick 53.5    sec/kimg 1670.75 maintenance 0.0    gpumem 6.2\n",
            "tick 1     kimg 6.0      lod 0.00  minibatch 8    time 40m 31s      sec/tick 2331.8  sec/kimg 387.61  maintenance 46.1   gpumem 6.2\n",
            "tick 2     kimg 12.1     lod 0.00  minibatch 8    time 1h 19m 36s   sec/tick 2344.2  sec/kimg 389.67  maintenance 0.0    gpumem 6.2\n",
            "tick 3     kimg 18.1     lod 0.00  minibatch 8    time 1h 58m 41s   sec/tick 2345.2  sec/kimg 389.82  maintenance 0.0    gpumem 6.2\n",
            "tick 4     kimg 24.1     lod 0.00  minibatch 8    time 2h 37m 46s   sec/tick 2345.2  sec/kimg 389.83  maintenance 0.0    gpumem 6.2\n",
            "tick 5     kimg 30.1     lod 0.00  minibatch 8    time 3h 16m 52s   sec/tick 2345.7  sec/kimg 389.90  maintenance 0.0    gpumem 6.2\n",
            "tick 6     kimg 36.1     lod 0.00  minibatch 8    time 3h 55m 58s   sec/tick 2346.5  sec/kimg 390.04  maintenance 0.0    gpumem 6.2\n",
            "tick 7     kimg 42.1     lod 0.00  minibatch 8    time 4h 35m 05s   sec/tick 2346.3  sec/kimg 390.01  maintenance 0.0    gpumem 6.2\n"
          ]
        }
      ]
    },
    {
      "cell_type": "markdown",
      "metadata": {
        "id": "3jrDvmmULgnS"
      },
      "source": [
        "### **5.Test the model (Generating fake images)**"
      ]
    },
    {
      "cell_type": "markdown",
      "metadata": {
        "id": "zcM4_YBjL3hK"
      },
      "source": [
        "Generate fake images by testing and zip the files to download."
      ]
    },
    {
      "cell_type": "code",
      "metadata": {
        "id": "7zCaH7Z-LjM7"
      },
      "source": [
        "!python run_generator.py generate-images --network=/content/stylegan2-colab2/stylegan2results/00010-stylegan2-celebs-1gpu-config-a/network-snapshot-000100.pkl --seeds=3875451-3876000 --truncation-psi=0.5"
      ],
      "execution_count": null,
      "outputs": []
    },
    {
      "cell_type": "code",
      "metadata": {
        "id": "yghJxX07L2Tn"
      },
      "source": [
        "!zip -r generated-0.7.zip /content/stylegan2-colab2/stylegan2/results/00010-stylegan2-celebs-1gpu-config-f"
      ],
      "execution_count": null,
      "outputs": []
    },
    {
      "cell_type": "markdown",
      "metadata": {
        "id": "B7N3lIapLr5l"
      },
      "source": [
        "### **6.Interpolation and Convert the results into video**"
      ]
    },
    {
      "cell_type": "code",
      "metadata": {
        "id": "u5Chro-oMBH1"
      },
      "source": [
        "!python run_generator.py generate-images --network=/content/stylegan2-colab2/stylegan2/results/00010-stylegan2-celebs-1gpu-config-f/network-snapshot-000100.pkl --seeds=3,11,17,25,3 --truncation-psi=0.7"
      ],
      "execution_count": null,
      "outputs": []
    },
    {
      "cell_type": "code",
      "metadata": {
        "id": "qyNJR58nMHl3"
      },
      "source": [
        "!ffmpeg -r 24 -i ./results/00000-generate-images/step%05d.png -vcodec libx264 -pix_fmt yuv420p latent-walk-v2.mp4"
      ],
      "execution_count": null,
      "outputs": []
    }
  ]
}