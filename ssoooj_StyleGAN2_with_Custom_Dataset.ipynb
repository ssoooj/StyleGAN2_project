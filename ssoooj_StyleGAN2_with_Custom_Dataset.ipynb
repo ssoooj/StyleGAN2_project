{
  "nbformat": 4,
  "nbformat_minor": 0,
  "metadata": {
    "colab": {
      "name": "ssoooj-StyleGAN2_with_Custom_Dataset.ipynb",
      "provenance": [],
      "collapsed_sections": []
    },
    "kernelspec": {
      "name": "python3",
      "display_name": "Python 3"
    },
    "language_info": {
      "name": "python"
    }
  },
  "cells": [
    {
      "cell_type": "markdown",
      "metadata": {
        "id": "r5sRm8g1nWVS"
      },
      "source": [
        "# **StyleGAN2 with Custom Dataset**"
      ]
    },
    {
      "cell_type": "markdown",
      "metadata": {
        "id": "7YCqInRSnh-b"
      },
      "source": [
        "### **1. Clone the StyleGAN2 official git repository.**"
      ]
    },
    {
      "cell_type": "code",
      "metadata": {
        "id": "AMLoAhy8nPw0"
      },
      "source": [
        "!git clone https://github.com/NVlabs/stylegan2.git /content/repository"
      ],
      "execution_count": null,
      "outputs": []
    },
    {
      "cell_type": "code",
      "metadata": {
        "id": "8fY89gUGngm1"
      },
      "source": [
        "%cd repository"
      ],
      "execution_count": null,
      "outputs": []
    },
    {
      "cell_type": "markdown",
      "metadata": {
        "id": "Z4t848q9npZ4"
      },
      "source": [
        "### **2.Download prerequisites.**"
      ]
    },
    {
      "cell_type": "code",
      "metadata": {
        "id": "tBs7CFhGnhtq"
      },
      "source": [
        "!pip install tensorflow-gpu==1.14\n",
        "!pip install torch==1.2.0 torchvision==0.2.1\n",
        "!pip install numpy==1.16.4\n",
        "!pip install ninja==1.10.2\n",
        "!pip install requests\n",
        "!pip install six\n",
        "!pip install scipy==1.5.2"
      ],
      "execution_count": null,
      "outputs": []
    },
    {
      "cell_type": "code",
      "metadata": {
        "id": "-WZaT3hho6um"
      },
      "source": [
        "!python -V"
      ],
      "execution_count": null,
      "outputs": []
    },
    {
      "cell_type": "markdown",
      "metadata": {
        "id": "95yFSobbrhwo"
      },
      "source": [
        "### **3.Convert your dataset into .tfrecords files.**"
      ]
    },
    {
      "cell_type": "markdown",
      "metadata": {
        "id": "hEiZrGyur5Gv"
      },
      "source": [
        "StyleGAN2 requires you to convert your image data into .tfrecords format. \n",
        "You can name your own folder after the directory './datasets/your_folder' to save results and set your path where the image data is located."
      ]
    },
    {
      "cell_type": "code",
      "metadata": {
        "id": "m_pTyGCGsjd9"
      },
      "source": [
        "%cd /content/repository"
      ],
      "execution_count": null,
      "outputs": []
    },
    {
      "cell_type": "code",
      "metadata": {
        "id": "cGf0hzbOsiIX"
      },
      "source": [
        "!python dataset_tool.py create_from_images ./datasets/unicorn /content/drive/My\\ Drive/3d_reconstruction_sohyeon/white_pot"
      ],
      "execution_count": null,
      "outputs": []
    },
    {
      "cell_type": "code",
      "metadata": {
        "id": "6f0l441LsKbA"
      },
      "source": [
        "%ls ./datasets/unicorn"
      ],
      "execution_count": null,
      "outputs": []
    },
    {
      "cell_type": "markdown",
      "metadata": {
        "id": "J8nmfo_to7x-"
      },
      "source": [
        "Make directories 'tfrecord_dir' and 'datasets' into the 'tfrecord_dir'."
      ]
    },
    {
      "cell_type": "code",
      "metadata": {
        "id": "eYx36tRjpKls"
      },
      "source": [
        "%mkdir tfrecord_dir\n",
        "%cd tfrecord_dir\n",
        "%mkdir datasets\n",
        "%cd datasets"
      ],
      "execution_count": null,
      "outputs": []
    },
    {
      "cell_type": "markdown",
      "metadata": {
        "id": "nOtBl7TfqHBh"
      },
      "source": [
        "Put all the .tfrecords files into the 'datasets' directory. For me, it is easier to go with copying the files from my Google Drive by cloning the drive in the workspace, however, you can also manually drag the files from your hard drive."
      ]
    },
    {
      "cell_type": "code",
      "metadata": {
        "id": "Bpvkpll3plBo"
      },
      "source": [
        "from google.colab import drive\n",
        "drive.mount('/content/drive')"
      ],
      "execution_count": null,
      "outputs": []
    },
    {
      "cell_type": "markdown",
      "metadata": {
        "id": "wAKENPZMKtPl"
      },
      "source": [
        "### **4.Training**"
      ]
    },
    {
      "cell_type": "markdown",
      "metadata": {
        "id": "QSi0mcMFLSOB"
      },
      "source": [
        "For the detailed setting of each parameter, please check on original codes from StyleGAN2 repository."
      ]
    },
    {
      "cell_type": "code",
      "metadata": {
        "id": "RL_wJo2NK5C1"
      },
      "source": [
        "!python run_training.py --num-gpus=1 --data-dir=./tfrecord_dir --config-f --dataset=unicorn --total-kimg=1000 --mirror-augment=true --metrics=None"
      ],
      "execution_count": null,
      "outputs": []
    },
    {
      "cell_type": "markdown",
      "metadata": {
        "id": "3jrDvmmULgnS"
      },
      "source": [
        "### **5.Test the model (Generating fake images)**"
      ]
    },
    {
      "cell_type": "markdown",
      "metadata": {
        "id": "zcM4_YBjL3hK"
      },
      "source": [
        "Generate fake images by testing and zip the files to download."
      ]
    },
    {
      "cell_type": "code",
      "metadata": {
        "id": "7zCaH7Z-LjM7"
      },
      "source": [
        "!python run_generator.py generate-images --network=/content/stylegan2-colab/stylegan2_sh/results/00006-stylegan2-celebs-1gpu-config-a/network-snapshot-000100.pkl --seeds=3875451-3876000 --truncation-psi=0.5"
      ],
      "execution_count": null,
      "outputs": []
    },
    {
      "cell_type": "code",
      "metadata": {
        "id": "yghJxX07L2Tn"
      },
      "source": [
        "!zip -r generated-0.7.zip /content/stylegan2-colab/stylegan2_sh/results/00006-stylegan2-celebs-1gpu-config-a"
      ],
      "execution_count": null,
      "outputs": []
    },
    {
      "cell_type": "markdown",
      "metadata": {
        "id": "B7N3lIapLr5l"
      },
      "source": [
        "### **6.Interpolation and Convert the results into video**"
      ]
    },
    {
      "cell_type": "code",
      "metadata": {
        "id": "u5Chro-oMBH1"
      },
      "source": [
        "!python run_generator.py generate-images --network=/content/stylegan2-colab/stylegan2_sh/results/00006-stylegan2-celebs-1gpu-config-a/network-snapshot-000100.pkl --seeds=3,11,17,25,3 --truncation-psi=0.7"
      ],
      "execution_count": null,
      "outputs": []
    },
    {
      "cell_type": "code",
      "metadata": {
        "id": "qyNJR58nMHl3"
      },
      "source": [
        "!ffmpeg -r 24 -i ./results/00007-generate-images/step%05d.png -vcodec libx264 -pix_fmt yuv420p latent-walk-v2.mp4"
      ],
      "execution_count": null,
      "outputs": []
    }
  ]
}